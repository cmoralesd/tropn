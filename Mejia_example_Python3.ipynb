{
 "cells": [
  {
   "cell_type": "code",
   "execution_count": null,
   "metadata": {},
   "outputs": [],
   "source": [
    "# Ejemplo 3:\n",
    "# Modelo TROPN, obtención del arbol de alcanzabilidad factible en el tiempo,\n",
    "# y obtención de ruta óptima para el modelo propuesto por Mejía et al. (2018)\n"
   ]
  },
  {
   "cell_type": "code",
   "execution_count": 1,
   "metadata": {},
   "outputs": [],
   "source": [
    "import snakes.plugins\n",
    "import tropn\n",
    "snakes.plugins.load(tropn, \"snakes.nets\", \"nets\")\n",
    "from nets import *\n",
    "from tropn import *\n",
    "from time import process_time"
   ]
  },
  {
   "cell_type": "code",
   "execution_count": 2,
   "metadata": {},
   "outputs": [],
   "source": [
    "n = PetriNet('TROPN-Mejia-2019-4x4')\n",
    "n.globals.declare(\"from tropn import process\")\n",
    "\n",
    "# length of problem, lenght x lenght\n",
    "lenght = 4\n",
    "\n",
    "# add places\n",
    "nplaces = lenght + 2\n",
    "k = 1\n",
    "for i in range(nplaces):\n",
    "    bound = 0 if i==0 else k\n",
    "    n.add_place(Place('p'+str(i),[], bound=bound))\n",
    "\n",
    "tnumber = 1  #for correlative transition\n",
    "ntokens = 1\n",
    "njobs = lenght\n",
    "# add input transtitions from p0 for each token\n",
    "for p in n.place():\n",
    "    if p.name != 'p0' and p.name != 'p'+str(nplaces-1):\n",
    "        for i in range(ntokens): \n",
    "            guard = '(x==\"X' + str(i+1) + '\")'\n",
    "            tname = 't'+str(tnumber)\n",
    "            tnumber+=1\n",
    "            n.add_transition(Transition(tname, Expression(guard)))\n",
    "            n.add_input('p0', tname, MultiArc([Variable('x')]))\n",
    "            n.add_output(p.name, tname, MultiArc([Expression('process(x)')]))\n",
    "           \n",
    "# add output transtitions from p0 for each token\n",
    "for p in n.place():\n",
    "    if p.name != 'p0' and p.name != 'p'+str(nplaces-1):\n",
    "        for i in range(ntokens):\n",
    "            guard = '(x==\"X' + str(i+1) + '_' + str(njobs) + '\")'\n",
    "            tname = 't'+str(tnumber)\n",
    "            tnumber+=1\n",
    "            n.add_transition(Transition(tname, Expression(guard)))\n",
    "            n.add_input(p.name, tname, MultiArc([Variable('x')]))\n",
    "            n.add_output('p0', tname, MultiArc([Expression('x')]))\n",
    "            \n",
    "# add process transitions\n",
    "for pinput in n.place():\n",
    "    if pinput.name != 'p0' and pinput.name != 'p'+str(nplaces-1):\n",
    "        for poutput in n.place(): \n",
    "            if poutput.name != 'p0' and poutput.name != 'p'+str(nplaces-1) and poutput != pinput:\n",
    "                guard = \"\"\n",
    "                for i in range(ntokens): \n",
    "                    for j in range(njobs-1):\n",
    "                        guard += 'x==\"X' + str(i+1) + '_' + str(j+1) + '\" or '\n",
    "                guard = '(' + guard[:-4] + ') and dot==\"dot\"'\n",
    "                tname = 't'+str(tnumber)\n",
    "                tnumber+=1\n",
    "                n.add_transition(Transition(tname, Expression(guard)))\n",
    "                n.add_input(pinput.name, tname, MultiArc([Variable('x')]))\n",
    "                n.add_output(poutput.name, tname, MultiArc([Expression('process(x)')]))\n",
    "                \n",
    "# for place modeling robot, add arc to each transition\n",
    "robotplace = 'p'+str(nplaces)\n",
    "n.add_place(Place(robotplace,[], bound=1))\n",
    "for t in n.transition():\n",
    "    n.add_input(robotplace, t.name, MultiArc([Variable(\"dot\")]))\n",
    "    n.add_output(robotplace, t.name, MultiArc([Expression(\"dot\")]))  "
   ]
  },
  {
   "cell_type": "code",
   "execution_count": 3,
   "metadata": {},
   "outputs": [
    {
     "data": {
      "text/plain": [
       "{'X1_1': {'p1': 34, 'p2': 2, 'p3': 54, 'p4': 61},\n",
       " 'X1_2': {'p1': 15, 'p2': 89, 'p3': 70, 'p4': 9},\n",
       " 'X1_3': {'p1': 38, 'p2': 19, 'p3': 28, 'p4': 87},\n",
       " 'X1_4': {'p1': 95, 'p2': 7, 'p3': 34, 'p4': 29}}"
      ]
     },
     "execution_count": 3,
     "metadata": {},
     "output_type": "execute_result"
    }
   ],
   "source": [
    "### delay matrix for process and movement\n",
    "#              (d[i,j])=                 (M[i,j])=\n",
    "#             54 9  38 95               3 4 1 1\n",
    "#             34 15 19 34               1 1 2 3\n",
    "#             61 89 28 7                4 2 3 2\n",
    "#             2  70 87 29               2 3 4 4\n",
    "\n",
    "delays = {}\n",
    "d = [[54, 9, 38, 95], [34, 15, 19, 34], [61, 89, 28, 7], [2, 70, 87, 29]]\n",
    "M = [[3, 4, 1, 1], [1, 1, 2, 3], [4, 2, 3, 2], [2, 3, 4, 4]]\n",
    "for i in range(ntokens):\n",
    "    for j in range(njobs):\n",
    "        token = 'X'+str(i+1) if p==0 else 'X'+str(i+1)+'_'+str(j+1)\n",
    "        delay = {}\n",
    "        for m in range(lenght+1):\n",
    "            for k in range(lenght):\n",
    "                if m == M[k][j]:\n",
    "                    delay.update({'p'+str(m):d[k][j]})\n",
    "        delays.update({token:delay})\n",
    "n.delays = delays\n",
    "\n",
    "n.delays"
   ]
  },
  {
   "cell_type": "code",
   "execution_count": 4,
   "metadata": {},
   "outputs": [
    {
     "data": {
      "text/plain": [
       "{'X1_1': {'p1': 54, 'p2': 34, 'p3': 61, 'p4': 2},\n",
       " 'X1_2': {'p2': 9, 'p3': 15, 'p4': 89},\n",
       " 'X1_3': {'p3': 38, 'p4': 19},\n",
       " 'X1_4': {'p4': 95}}"
      ]
     },
     "execution_count": 4,
     "metadata": {},
     "output_type": "execute_result"
    }
   ],
   "source": [
    "### delay matrix for process and movement\n",
    "#              (d[i,j])=                 (M[i,j])=\n",
    "#             54 9  38 95               3 4 1 1\n",
    "#             34 15 19 34               1 1 2 3\n",
    "#             61 89 28 7                4 2 3 2\n",
    "#             2  70 87 29               2 3 4 4\n",
    "\n",
    "delays = {}\n",
    "d = [[54, 9, 38, 95, 54, 9, 38, 95,38, 95], \n",
    "     [34, 15, 19, 34, 34, 15, 19, 34,38, 95], \n",
    "     [61, 89, 28, 7, 61, 89, 28, 7,38, 95], \n",
    "     [2, 70, 87, 29, 2, 70, 87, 29,38, 95],\n",
    "     [54, 9, 38, 95, 54, 9, 38, 95,38, 95], \n",
    "     [34, 15, 19, 34, 34, 15, 19, 34,38, 95], \n",
    "     [61, 89, 28, 7, 61, 89, 28, 7,38, 95], \n",
    "     [2, 70, 87, 29, 2, 70, 87, 29,38, 95],\n",
    "     [61, 89, 28, 7, 61, 89, 28, 7,38, 95], \n",
    "     [2, 70, 87, 29, 2, 70, 87, 29,38, 95]]\n",
    "\n",
    "M = [[1,2,3,4,5,6,7,8,9,10],\n",
    "     [2,3,4,5,6,7,8,9,10,1],\n",
    "     [3,4,5,6,7,8,9,10,1,2],\n",
    "     [4,5,6,7,8,9,10,1,2,3],\n",
    "     [5,6,7,8,9,10,1,2,3,4],\n",
    "     [6,7,8,9,10,1,2,3,4,5],\n",
    "     [7,8,9,10,1,2,3,4,5,6],\n",
    "     [8,9,10,1,2,3,4,5,6,7],\n",
    "     [9,10,1,2,3,4,5,6,7,8],\n",
    "     [10,1,2,3,4,5,6,7,8,9]]\n",
    "for i in range(ntokens):\n",
    "    for j in range(njobs):\n",
    "        token = 'X'+str(i+1) if p==0 else 'X'+str(i+1)+'_'+str(j+1)\n",
    "        delay = {}\n",
    "        for m in range(lenght+1):\n",
    "            for k in range(lenght):\n",
    "                if m == M[k][j]:\n",
    "                    delay.update({'p'+str(m):d[k][j]})\n",
    "        delays.update({token:delay})\n",
    "n.delays = delays\n",
    "\n",
    "n.delays"
   ]
  },
  {
   "cell_type": "code",
   "execution_count": 5,
   "metadata": {},
   "outputs": [],
   "source": [
    "def full_marking(s):\n",
    "    m = s.marking\n",
    "    r = Marking({})\n",
    "    w = []\n",
    "    for key in s.waiting.keys():\n",
    "        w.append({key+'_r':MultiSet(s.waiting[key]['token'])})\n",
    "    for key in s.process.keys():\n",
    "        w.append({key+'_r':MultiSet(s.process[key]['token'])})\n",
    "    for i in w:\n",
    "        r = r + Marking(i)\n",
    "        \n",
    "    return m + r"
   ]
  },
  {
   "cell_type": "code",
   "execution_count": 6,
   "metadata": {},
   "outputs": [
    {
     "name": "stdout",
     "output_type": "stream",
     "text": [
      "3.425 secs\n",
      "193 states found\n",
      "275 state transitions\n"
     ]
    }
   ],
   "source": [
    "# El procedimiento general de simulación es el siguiente\n",
    "time_start = process_time()\n",
    "# 1. Definir el estado inicial a partir de un marcaje inicial, con\n",
    "#    ningún proceso actualmente en ejecución\n",
    "m = (Marking({'p0': MultiSet([\"X1\"]*3),\n",
    "              robotplace: MultiSet([\"dot\"])\n",
    "             }))\n",
    "s0 = NetState(m,{},{})\n",
    "set_state(n,s0)\n",
    "# 2. Obtener el árbol de alcanzabilidad\n",
    "markings, tree, optimal = time_feasible_reachability_tree(n,s0)\n",
    "# ....................\n",
    "time_elapsed = (process_time() - time_start)\n",
    "print (\"%5.3f secs\" % (time_elapsed))\n",
    "print (len(markings), \"states found\")\n",
    "print (len(tree), \"state transitions\")"
   ]
  },
  {
   "cell_type": "code",
   "execution_count": 7,
   "metadata": {},
   "outputs": [
    {
     "data": {
      "text/plain": [
       "28"
      ]
     },
     "execution_count": 7,
     "metadata": {},
     "output_type": "execute_result"
    }
   ],
   "source": [
    "len(optimal)"
   ]
  },
  {
   "cell_type": "code",
   "execution_count": 8,
   "metadata": {},
   "outputs": [
    {
     "name": "stdout",
     "output_type": "stream",
     "text": [
      "0 {p0={'X1', 'X1', 'X1'}, p6={'dot'}}\n",
      "0 {p0={'X1', 'X1'}, p2={'processing'}, p2_r={'X1_1'}, p6={'dot'}}\n",
      "0 {p0={'X1'}, p2={'processing'}, p2_r={'X1_1'}, p3={'processing'}, p3_r={'X1_1'}, p6={'dot'}}\n",
      "0 {p2={'processing'}, p2_r={'X1_1'}, p3={'processing'}, p3_r={'X1_1'}, p4={'processing'}, p4_r={'X1_1'}, p6={'dot'}}\n",
      "2 {p2={'processing'}, p2_r={'X1_1'}, p3={'processing'}, p3_r={'X1_1'}, p4={'X1_1'}, p6={'dot'}}\n",
      "2 {p1={'processing'}, p1_r={'X1_2'}, p2={'processing'}, p2_r={'X1_1'}, p3={'processing'}, p3_r={'X1_1'}, p6={'dot'}}\n",
      "3 {p1={'X1_2'}, p2={'processing'}, p2_r={'X1_1'}, p3={'processing'}, p3_r={'X1_1'}, p6={'dot'}}\n",
      "3 {p2={'processing'}, p2_r={'X1_1'}, p3={'processing'}, p3_r={'X1_1'}, p4={'processing'}, p4_r={'X1_3'}, p6={'dot'}}\n",
      "22 {p2={'processing'}, p2_r={'X1_1'}, p3={'processing'}, p3_r={'X1_1'}, p4={'X1_3'}, p6={'dot'}}\n",
      "22 {p1={'processing'}, p1_r={'X1_4'}, p2={'processing'}, p2_r={'X1_1'}, p3={'processing'}, p3_r={'X1_1'}, p6={'dot'}}\n",
      "23 {p1={'X1_4'}, p2={'processing'}, p2_r={'X1_1'}, p3={'processing'}, p3_r={'X1_1'}, p6={'dot'}}\n",
      "23 {p0={'processing'}, p0_r={'X1_4'}, p2={'processing'}, p2_r={'X1_1'}, p3={'processing'}, p3_r={'X1_1'}, p6={'dot'}}\n",
      "31 {p0={'X1_4'}, p2={'X1_1'}, p3={'processing'}, p3_r={'X1_1'}, p6={'dot'}}\n",
      "31 {p0={'X1_4'}, p1={'processing'}, p1_r={'X1_2'}, p3={'processing'}, p3_r={'X1_1'}, p6={'dot'}}\n",
      "32 {p0={'X1_4'}, p1={'X1_2'}, p3={'processing'}, p3_r={'X1_1'}, p6={'dot'}}\n",
      "32 {p0={'X1_4'}, p2={'processing'}, p2_r={'X1_3'}, p3={'processing'}, p3_r={'X1_1'}, p6={'dot'}}\n",
      "33 {p0={'X1_4'}, p2={'X1_3'}, p3={'X1_1'}, p6={'dot'}}\n",
      "33 {p0={'X1_4'}, p3={'X1_1'}, p4={'processing'}, p4_r={'X1_4'}, p6={'dot'}}\n",
      "33 {p0={'X1_4'}, p1={'processing'}, p1_r={'X1_2'}, p4={'processing'}, p4_r={'X1_4'}, p6={'dot'}}\n",
      "34 {p0={'X1_4'}, p1={'X1_2'}, p4={'processing'}, p4_r={'X1_4'}, p6={'dot'}}\n",
      "34 {p0={'X1_4'}, p2={'processing'}, p2_r={'X1_3'}, p4={'processing'}, p4_r={'X1_4'}, p6={'dot'}}\n",
      "35 {p0={'X1_4'}, p2={'X1_3'}, p4={'processing'}, p4_r={'X1_4'}, p6={'dot'}}\n",
      "35 {p0={'X1_4'}, p1={'processing'}, p1_r={'X1_4'}, p4={'processing'}, p4_r={'X1_4'}, p6={'dot'}}\n",
      "36 {p0={'X1_4'}, p1={'X1_4'}, p4={'processing'}, p4_r={'X1_4'}, p6={'dot'}}\n",
      "36 {p0={'X1_4', 'processing'}, p0_r={'X1_4'}, p4={'processing'}, p4_r={'X1_4'}, p6={'dot'}}\n",
      "77 {p0={'X1_4', 'X1_4'}, p4={'X1_4'}, p6={'dot'}}\n",
      "77 {p0={'X1_4', 'X1_4', 'processing'}, p0_r={'X1_4'}, p6={'dot'}}\n",
      "77 {p0={'X1_4', 'X1_4', 'X1_4'}, p6={'dot'}}\n"
     ]
    }
   ],
   "source": [
    "for step in optimal:\n",
    "    #print (step[5])\n",
    "    #print (step[0])\n",
    "    #print (step[1])\n",
    "    #print (step[2], step[3])\n",
    "    print (step[5], step[1])"
   ]
  },
  {
   "cell_type": "code",
   "execution_count": null,
   "metadata": {},
   "outputs": [],
   "source": []
  }
 ],
 "metadata": {
  "kernelspec": {
   "display_name": "Python 3",
   "language": "python",
   "name": "python3"
  },
  "language_info": {
   "codemirror_mode": {
    "name": "ipython",
    "version": 3
   },
   "file_extension": ".py",
   "mimetype": "text/x-python",
   "name": "python",
   "nbconvert_exporter": "python",
   "pygments_lexer": "ipython3",
   "version": "3.7.3"
  }
 },
 "nbformat": 4,
 "nbformat_minor": 2
}
