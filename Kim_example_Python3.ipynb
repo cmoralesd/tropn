{
 "cells": [
  {
   "cell_type": "code",
   "execution_count": null,
   "metadata": {},
   "outputs": [],
   "source": [
    "# Ejemplo 1:\n",
    "# Modelo TROPN, obtención del arbol de alcanzabilidad factible en el tiempo,\n",
    "# y obtención de ruta óptima para el modelo propuesto por Kim et al. (2015)\n"
   ]
  },
  {
   "cell_type": "code",
   "execution_count": null,
   "metadata": {},
   "outputs": [],
   "source": [
    "import snakes.plugins\n",
    "import tropn\n",
    "snakes.plugins.load(tropn, \"snakes.nets\", \"nets\")\n",
    "from nets import *\n",
    "from tropn import *\n",
    "from time import process_time"
   ]
  },
  {
   "cell_type": "code",
   "execution_count": null,
   "metadata": {},
   "outputs": [],
   "source": [
    "n = PetriNet('TROPN-Kim-2015')\n",
    "n.globals.declare(\"from tropn import process\")\n",
    "\n",
    "n.add_place(Place('p0',[], bound=0))\n",
    "n.add_place(Place('p1',[], bound=1))\n",
    "n.add_place(Place('p2',[], bound=1))\n",
    "n.add_place(Place('p3',[], bound=1))\n",
    "n.add_place(Place('p4',[], bound=1))\n",
    "n.add_place(Place('p5',[], bound=1))\n",
    "n.add_place(Place('p6',[], bound=1))\n",
    "n.add_place(Place('p7',[], bound=1))\n",
    "n.add_place(Place('p8',[], bound=1))\n",
    "n.add_place(Place('p9',[], bound=0))\n",
    "\n",
    "\n",
    "n.add_transition(Transition('t1', Expression('(x==\"X1\" or x==\"X3\") and dot==\"dot\"')))\n",
    "n.add_transition(Transition('t2', Expression('(x==\"X2\") and dot==\"dot\"')))\n",
    "n.add_transition(Transition('t3', Expression('(x==\"X1_1\") and dot==\"dot\"')))\n",
    "n.add_transition(Transition('t4', Expression('(x==\"X3_1\") and dot==\"dot\"')))\n",
    "n.add_transition(Transition('t5', Expression('(x==\"X1_2\" or x==\"X2_1\") and dot==\"dot\"')))\n",
    "n.add_transition(Transition('t6', Expression('(x==\"X1_2\" or x==\"X2_1\" or x==\"X3_1\") and dot==\"dot\"')))\n",
    "n.add_transition(Transition('t7', Expression('(x==\"X1_3\" or x==\"X2_2\" or x==\"X3_2\") and dot==\"dot\"')))\n",
    "n.add_transition(Transition('t8', Expression('(x==\"X1_4\" or x==\"X2_3\" or x==\"X3_3\") and dot==\"dot\"')))\n",
    "                                                        \n",
    "for t in ['t1','t2','t3','t4','t5']:\n",
    "    n.add_input('p6', t, MultiArc([Variable(\"dot\")]))\n",
    "    n.add_output('p6', t, MultiArc([Expression(\"dot\")]))  \n",
    "\n",
    "for t in ['t6','t7','t8']:\n",
    "    n.add_input('p8', t, MultiArc([Variable(\"dot\")]))\n",
    "    n.add_output('p8', t, MultiArc([Expression(\"dot\")]))  \n",
    "\n",
    "n.add_input('p0', 't1', MultiArc([Variable('x')]))\n",
    "n.add_output('p1', 't1', MultiArc([Expression('process(x)')]))\n",
    "n.add_input('p0', 't2', MultiArc([Variable('x')]))\n",
    "n.add_output('p2', 't2', MultiArc([Expression('process(x)')]))\n",
    "n.add_input('p1', 't3', MultiArc([Variable('x')]))\n",
    "n.add_output('p2', 't3', MultiArc([Expression('process(x)')]))\n",
    "n.add_input('p1', 't4', MultiArc([Variable('x')]))\n",
    "n.add_output('p7', 't4', MultiArc([Expression('x')]))\n",
    "n.add_input('p2', 't5', MultiArc([Variable('x')]))\n",
    "n.add_output('p7', 't5', MultiArc([Expression('x')]))\n",
    "n.add_input('p7', 't6', MultiArc([Variable('x')]))\n",
    "n.add_output('p3', 't6', MultiArc([Expression('process(x)')]))\n",
    "n.add_input('p3', 't7', MultiArc([Variable('x')]))\n",
    "n.add_output('p4', 't7', MultiArc([Expression('process(x)')]))\n",
    "n.add_input('p4', 't8', MultiArc([Variable('x')]))\n",
    "n.add_output('p9', 't8', MultiArc([Expression('x')]))\n",
    "\n",
    "n.set_marking(Marking({'p0': MultiSet([\"X1\", \"X2\"]),\n",
    "                      'p6': MultiSet([\"dot\"]),\n",
    "                      'p8': MultiSet([\"dot\"])}))\n",
    "                \n",
    "M0 = n.get_marking()\n",
    "M0"
   ]
  },
  {
   "cell_type": "code",
   "execution_count": null,
   "metadata": {},
   "outputs": [],
   "source": [
    "# Los tiempos de espera se definen como diccionario\n",
    "# Para cada token, basta señalar los tiempos de espera correspondientes\n",
    "# en las plazas y transiciones pertinentes.\n",
    "# Cualquier tiempo de espera que no esté declara explicitamente, será cero\n",
    "n.delays = {'X1':{'t1':3},\n",
    "        'X1_1':{'p1':5,'t3':2},\n",
    "        'X1_2':{'p2':3,'t5':2,'p7':0,'t6':2},\n",
    "        'X1_3':{'p3':5,'t7':2},\n",
    "        'X1_4':{'p4':2,'t8':2,'p9':0},\n",
    "          \n",
    "        'X2':{'t2':3},\n",
    "        'X2_1':{'p2':4,'t5':3,'p7':0,'t6':2},\n",
    "        'X2_2':{'p3':4,'t7':1},\n",
    "        'X2_3':{'p4':2,'t8':1,'p9':0},\n",
    "          \n",
    "        'X3':{'t1':2},\n",
    "        'X3_1':{'p1':4,'t4':2,'p7':0,'t6':2},\n",
    "        'X3_2':{'p3':4,'t7':1},\n",
    "        'X3_3':{'p4':2,'t8':2,'p9':0}\n",
    "        }\n"
   ]
  },
  {
   "cell_type": "code",
   "execution_count": null,
   "metadata": {},
   "outputs": [],
   "source": [
    "# caso 1 en Kim\n",
    "n.delays = {'X1':{'p0':0,'t1':3},\n",
    "    'X1_1':{'p1':167,'t3':3},\n",
    "    'X1_2':{'p2':52,'t5':3,'p7':0,'t6':3},\n",
    "    'X1_3':{'p3':105,'t7':3},\n",
    "    'X1_4':{'p4':287,'t8':3,'p9':0},\n",
    "    'X2':{'p0':0,'t2':3},\n",
    "    'X2_1':{'p2':145,'t5':3,'p7':0,'t6':3},\n",
    "    'X2_2':{'p3':111,'t7':3},\n",
    "    'X2_3':{'p4':172,'t8':3,'p9':0},\n",
    "    'X3':{'p0':0,'t1':3},\n",
    "    'X3_1':{'p1':124,'t4':3,'p7':0,'t6':3},\n",
    "    'X3_2':{'p3':251,'t7':3},\n",
    "    'X3_3':{'p4':174,'t8':3,'p9':0}\n",
    "    }"
   ]
  },
  {
   "cell_type": "code",
   "execution_count": null,
   "metadata": {},
   "outputs": [],
   "source": [
    "# El procedimiento general de simulación es el siguiente\n",
    "time_start = process_time()\n",
    "# 1. Definir el estado inicial a partir de un marcaje inicial, con\n",
    "#    ningún proceso actualmente en ejecución\n",
    "tokens = MultiSet(['X1', 'X2'])*2 + MultiSet(['X3'])*2\n",
    "#tokens = MultiSet(['X1', 'X2'])\n",
    "m = Marking({'p0': tokens, 'p6': MultiSet(['dot']), 'p8': MultiSet(['dot'])})\n",
    "s0 = NetState(m,{},{})\n",
    "set_state(n,s0)\n",
    "# 2. Obtener el árbol de alcanzabilidad\n",
    "markings, tree, optimal = time_feasible_reachability_tree(n,s0)\n",
    "# ....................\n",
    "time_elapsed = (process_time() - time_start)\n",
    "print (\"%5.3f secs\" % (time_elapsed))\n",
    "print (len(markings), \"states found\")\n",
    "print (len(tree), \"state transitions\")"
   ]
  },
  {
   "cell_type": "code",
   "execution_count": null,
   "metadata": {},
   "outputs": [],
   "source": [
    "# número de estados distintos\n",
    "len(markings)"
   ]
  },
  {
   "cell_type": "code",
   "execution_count": null,
   "metadata": {},
   "outputs": [],
   "source": [
    "# número de pasos en el árbol de alcanzabilidad factible en el tiempo\n",
    "len(tree)"
   ]
  },
  {
   "cell_type": "code",
   "execution_count": null,
   "metadata": {},
   "outputs": [],
   "source": [
    "# longitud de la ruta de mínimo tiempo de procesamiento\n",
    "len(optimal)"
   ]
  },
  {
   "cell_type": "code",
   "execution_count": null,
   "metadata": {},
   "outputs": [],
   "source": [
    "# la estructura de cada paso es:\n",
    "# step[0]: marcaje inicial\n",
    "# step[1]: marcaje final\n",
    "# step[2]: transición disparada\n",
    "# step[3]: tokens utilizados\n",
    "# step[4]: tiempo que tardó en ejecutarse el paso\n",
    "# step[5]: tiempo de procesamiento acumulado\n",
    "\n",
    "for step in optimal:\n",
    "    print (step[5], step[1])"
   ]
  },
  {
   "cell_type": "code",
   "execution_count": null,
   "metadata": {},
   "outputs": [],
   "source": [
    "# save in file\n",
    "f = open(\"kim_test_optimal.txt\",\"w+\")\n",
    "for l in optimal:\n",
    "    f.write(str(l))\n",
    "    f.write(\"\\r\\n\")\n",
    "f.close()"
   ]
  },
  {
   "cell_type": "code",
   "execution_count": null,
   "metadata": {},
   "outputs": [],
   "source": []
  }
 ],
 "metadata": {
  "kernelspec": {
   "display_name": "Python 3",
   "language": "python",
   "name": "python3"
  },
  "language_info": {
   "codemirror_mode": {
    "name": "ipython",
    "version": 3
   },
   "file_extension": ".py",
   "mimetype": "text/x-python",
   "name": "python",
   "nbconvert_exporter": "python",
   "pygments_lexer": "ipython3",
   "version": "3.7.3"
  }
 },
 "nbformat": 4,
 "nbformat_minor": 2
}
