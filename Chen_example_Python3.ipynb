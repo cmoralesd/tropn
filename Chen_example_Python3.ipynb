{
 "cells": [
  {
   "cell_type": "code",
   "execution_count": null,
   "metadata": {},
   "outputs": [],
   "source": [
    "# Ejemplo 2:\n",
    "# Modelo TROPN, obtención del arbol de alcanzabilidad factible en el tiempo,\n",
    "# y obtención de ruta óptima para el modelo propuesto por Chen et al. (2019)\n"
   ]
  },
  {
   "cell_type": "code",
   "execution_count": null,
   "metadata": {},
   "outputs": [],
   "source": [
    "import snakes.plugins\n",
    "import tropn\n",
    "snakes.plugins.load(tropn, \"snakes.nets\", \"nets\")\n",
    "from nets import *\n",
    "from tropn import *\n",
    "from time import process_time"
   ]
  },
  {
   "cell_type": "code",
   "execution_count": null,
   "metadata": {},
   "outputs": [],
   "source": [
    "n = PetriNet('TROPN-Chen-2019')\n",
    "n.globals.declare(\"from tropn import process\")\n",
    "\n",
    "n.add_place(Place('p0',[], bound=0))\n",
    "n.add_place(Place('p1',[], bound=1))\n",
    "n.add_place(Place('p2',[], bound=1))\n",
    "n.add_place(Place('p3',[], bound=1))\n",
    "n.add_place(Place('p4',[], bound=2))\n",
    "n.add_place(Place('p5',[], bound=2))\n",
    "n.add_place(Place('p6',[], bound=2))\n",
    "n.add_place(Place('p7',[], bound=2))\n",
    "\n",
    "n.add_transition(Transition('t1', Expression('(x==\"X1\") and dot==\"dot\"')))\n",
    "n.add_transition(Transition('t2', Expression('(x==\"X1\") and dot==\"dot\"')))\n",
    "n.add_transition(Transition('t3', Expression('(x==\"X1_1\") and dot==\"dot\"')))\n",
    "n.add_transition(Transition('t4', Expression('(x==\"X1_2\") and dot==\"dot\"')))\n",
    "n.add_transition(Transition('t5', Expression('(x==\"X1\") and dot==\"dot\"')))\n",
    "n.add_transition(Transition('t6', Expression('(x==\"X1\") and dot==\"dot\"')))\n",
    "n.add_transition(Transition('t7', Expression('(x==\"X1_1\") and dot==\"dot\"')))\n",
    "n.add_transition(Transition('t8', Expression('(x==\"X1_2\") and dot==\"dot\"')))\n",
    "n.add_transition(Transition('t9', Expression('(x==\"X2\") and dot==\"dot\"')))\n",
    "n.add_transition(Transition('t10', Expression('(x==\"X2_1\") and dot==\"dot\"')))\n",
    "n.add_transition(Transition('t11', Expression('(x==\"X3\") and dot==\"dot\"')))\n",
    "n.add_transition(Transition('t12', Expression('(x==\"X3_1\") and dot==\"dot\"')))\n",
    "n.add_transition(Transition('t13', Expression('(x==\"X3_2\") and dot==\"dot\"')))\n",
    "                                                        \n",
    "for t in ['t1','t5','t13']:\n",
    "    n.add_input('p1', t, MultiArc([Variable(\"dot\")]))\n",
    "    n.add_output('p1', t, MultiArc([Expression(\"dot\")]))  \n",
    "\n",
    "for t in ['t2','t3','t6', 't7', 't9', 't10', 't12']:\n",
    "    n.add_input('p2', t, MultiArc([Variable(\"dot\")]))\n",
    "    n.add_output('p2', t, MultiArc([Expression(\"dot\")]))  \n",
    "    \n",
    "for t in ['t4','t8','t11']:\n",
    "    n.add_input('p3', t, MultiArc([Variable(\"dot\")]))\n",
    "    n.add_output('p3', t, MultiArc([Expression(\"dot\")]))  \n",
    "\n",
    "n.add_input('p0', 't1', MultiArc([Variable('x')]))\n",
    "n.add_output('p4', 't1', MultiArc([Expression('process(x)')]))\n",
    "n.add_input('p0', 't2', MultiArc([Variable('x')]))\n",
    "n.add_output('p4', 't2', MultiArc([Expression('process(x)')]))\n",
    "n.add_input('p4', 't3', MultiArc([Variable('x')]))\n",
    "n.add_output('p5', 't3', MultiArc([Expression('process(x)')]))\n",
    "n.add_input('p5', 't4', MultiArc([Variable('x')]))\n",
    "n.add_output('p0', 't4', MultiArc([Expression('x')]))\n",
    "n.add_input('p0', 't5', MultiArc([Variable('x')]))\n",
    "n.add_output('p6', 't5', MultiArc([Expression('process(x)')]))\n",
    "n.add_input('p0', 't6', MultiArc([Variable('x')]))\n",
    "n.add_output('p6', 't6', MultiArc([Expression('process(x)')]))\n",
    "n.add_input('p6', 't7', MultiArc([Variable('x')]))\n",
    "n.add_output('p7', 't7', MultiArc([Expression('process(x)')]))\n",
    "n.add_input('p7', 't8', MultiArc([Variable('x')]))\n",
    "n.add_output('p0', 't8', MultiArc([Expression('x')]))\n",
    "n.add_input('p0', 't9', MultiArc([Variable('x')]))\n",
    "n.add_output('p5', 't9', MultiArc([Expression('process(x)')]))\n",
    "n.add_input('p5', 't10', MultiArc([Variable('x')]))\n",
    "n.add_output('p0', 't10', MultiArc([Expression('x')]))\n",
    "n.add_input('p0', 't11', MultiArc([Variable('x')]))\n",
    "n.add_output('p7', 't11', MultiArc([Expression('process(x)')]))\n",
    "n.add_input('p7', 't12', MultiArc([Variable('x')]))\n",
    "n.add_output('p6', 't12', MultiArc([Expression('process(x)')]))\n",
    "n.add_input('p6', 't13', MultiArc([Variable('x')]))\n",
    "n.add_output('p0', 't13', MultiArc([Expression('x')]))\n",
    "\n",
    "n.set_marking(Marking({'p0': MultiSet([\"X1\", \"X2\",\"X3\"]),\n",
    "                      'p1': MultiSet([\"dot\"]),\n",
    "                      'p2': MultiSet([\"dot\"]),\n",
    "                      'p3': MultiSet([\"dot\"])}))\n",
    "                \n",
    "M0 = n.get_marking()\n",
    "M0"
   ]
  },
  {
   "cell_type": "code",
   "execution_count": null,
   "metadata": {},
   "outputs": [],
   "source": [
    "# Los tiempos de espera se definen como diccionario\n",
    "# Para cada token, basta señalar los tiempos de espera correspondientes\n",
    "# en las plazas y transiciones pertinentes.\n",
    "# Cualquier tiempo de espera que no esté declara explicitamente, será cero\n",
    "n.delays = {'X1':{'t1':3,'t2':3},\n",
    "            'X1_1':{'p4':5,'p6':5,'t3':3,'t7':3},\n",
    "            'X1_2':{'p5':5,'p7':5,'t4':3,'t8':3},\n",
    "\n",
    "            'X2':{'t9':3},\n",
    "            'X2_1':{'p5':5,'t10':3},\n",
    "\n",
    "            'X3':{'t11':3},\n",
    "            'X3_1':{'p7':5,'t12':3},\n",
    "            'X3_2':{'p6':5,'t13':3},\n",
    "        }\n"
   ]
  },
  {
   "cell_type": "code",
   "execution_count": null,
   "metadata": {},
   "outputs": [],
   "source": [
    "# El procedimiento general de simulación es el siguiente\n",
    "time_start = process_time()\n",
    "# 1. Definir el estado inicial a partir de un marcaje inicial, con\n",
    "#    ningún proceso actualmente en ejecución\n",
    "m = (Marking({'p0': MultiSet([\"X1\",\"X2\",\"X3\"]*1),\n",
    "              'p1': MultiSet([\"dot\"]),\n",
    "              'p2': MultiSet([\"dot\"]),\n",
    "              'p3': MultiSet([\"dot\"])}))\n",
    "s0 = NetState(m,{},{})\n",
    "set_state(n,s0)\n",
    "# 2. Obtener el árbol de alcanzabilidad\n",
    "markings, tree, optimal = time_feasible_reachability_tree(n,s0)\n",
    "# ....................\n",
    "time_elapsed = (process_time() - time_start)\n",
    "print (\"%5.3f secs\" % (time_elapsed))\n",
    "print (len(markings), \"states found\")\n",
    "print (len(tree), \"state transitions\")"
   ]
  },
  {
   "cell_type": "code",
   "execution_count": null,
   "metadata": {
    "scrolled": true
   },
   "outputs": [],
   "source": [
    "# número de estados distintos\n",
    "print ('estados', len(markings))\n",
    "print ('pasos', len(tree))\n",
    "print ('longitud', len(optimal))\n",
    "print ('tiempo', optimal[-1][5])"
   ]
  },
  {
   "cell_type": "code",
   "execution_count": null,
   "metadata": {},
   "outputs": [],
   "source": [
    "## número de pasos en el árbol de alcanzabilidad factible en el tiempo\n",
    "len(tree)"
   ]
  },
  {
   "cell_type": "code",
   "execution_count": null,
   "metadata": {},
   "outputs": [],
   "source": [
    "# longitud de la ruta de mínimo tiempo de procesamiento\n",
    "len(optimal)"
   ]
  },
  {
   "cell_type": "code",
   "execution_count": null,
   "metadata": {},
   "outputs": [],
   "source": [
    "# la estructura de cada paso es:\n",
    "# step[0]: marcaje inicial\n",
    "# step[1]: marcaje final\n",
    "# step[2]: transición disparada\n",
    "# step[3]: tokens utilizados\n",
    "# step[4]: tiempo que tardó en ejecutarse el paso\n",
    "# step[5]: tiempo de procesamiento acumulado\n",
    "\n",
    "for step in optimal:\n",
    "    print (step[5])\n",
    "    print (step[0])\n",
    "    print (step[1])\n",
    "    print (step[2], step[3])"
   ]
  },
  {
   "cell_type": "code",
   "execution_count": null,
   "metadata": {},
   "outputs": [],
   "source": []
  }
 ],
 "metadata": {
  "kernelspec": {
   "display_name": "Python 3",
   "language": "python",
   "name": "python3"
  },
  "language_info": {
   "codemirror_mode": {
    "name": "ipython",
    "version": 3
   },
   "file_extension": ".py",
   "mimetype": "text/x-python",
   "name": "python",
   "nbconvert_exporter": "python",
   "pygments_lexer": "ipython3",
   "version": "3.7.3"
  }
 },
 "nbformat": 4,
 "nbformat_minor": 2
}
